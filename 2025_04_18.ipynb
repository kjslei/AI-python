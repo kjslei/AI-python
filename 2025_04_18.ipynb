{
  "nbformat": 4,
  "nbformat_minor": 0,
  "metadata": {
    "colab": {
      "provenance": [],
      "authorship_tag": "ABX9TyN4r4z33JD0pFAOhh7qvRoa",
      "include_colab_link": true
    },
    "kernelspec": {
      "name": "python3",
      "display_name": "Python 3"
    },
    "language_info": {
      "name": "python"
    }
  },
  "cells": [
    {
      "cell_type": "markdown",
      "metadata": {
        "id": "view-in-github",
        "colab_type": "text"
      },
      "source": [
        "<a href=\"https://colab.research.google.com/github/kjslei/AI-python/blob/main/2025_04_18.ipynb\" target=\"_parent\"><img src=\"https://colab.research.google.com/assets/colab-badge.svg\" alt=\"Open In Colab\"/></a>"
      ]
    },
    {
      "cell_type": "code",
      "execution_count": null,
      "metadata": {
        "colab": {
          "base_uri": "https://localhost:8080/"
        },
        "id": "s68D-vl7cq2U",
        "outputId": "e30dddb4-a136-44de-afbe-f208455ebc7f"
      },
      "outputs": [
        {
          "output_type": "stream",
          "name": "stdout",
          "text": [
            "학생 정보 딕셔너리: {'name': '김민수', 'age': '20', 'major': '컴공'}\n",
            "요소 추가 후: {'name': '김민수', 'age': '20', 'major': '컴공', 'grade': 4.0}\n",
            "요소 제거 후: {'name': '김민수', 'age': '20', 'grade': 4.0}\n"
          ]
        }
      ],
      "source": [
        "student={\n",
        "    'name': '김민수',\n",
        "    'age': '20',\n",
        "    'major': '컴공'\n",
        "}\n",
        "print(f\"학생 정보 딕셔너리: {student}\")\n",
        "student['grade']=4.0\n",
        "print(f\"요소 추가 후: {student}\")\n",
        "del student['major']\n",
        "print(f\"요소 제거 후: {student}\")"
      ]
    },
    {
      "cell_type": "code",
      "source": [
        "fruit_price={\n",
        "    'apple': 1500,\n",
        "    'banana': 800,\n",
        "    'orange': 1200\n",
        "}\n",
        "print(\"과일 가격 정보\")\n",
        "for fruit, price in fruit_price.items():\n",
        "  print(f\"{fruit}: {price}원\")\n",
        "print(\"\\n가격 목록:\")\n",
        "for fruit in fruit_price.keys():\n",
        "  print(fruit)\n",
        "print(\"\\n가격 목록:\")\n",
        "for price in fruit_price.values():\n",
        "  print(f\"{price}원\")\n"
      ],
      "metadata": {
        "colab": {
          "base_uri": "https://localhost:8080/"
        },
        "id": "oKSv4054dyNC",
        "outputId": "3c9e4cdf-9ef2-420f-946b-3b9e158b2eda"
      },
      "execution_count": null,
      "outputs": [
        {
          "output_type": "stream",
          "name": "stdout",
          "text": [
            "과일 가격 정보\n",
            "apple: 1500원\n",
            "banana: 800원\n",
            "orange: 1200원\n",
            "\n",
            "가격 목록:\n",
            "apple\n",
            "banana\n",
            "orange\n",
            "\n",
            "가격 목록:\n",
            "1500원\n",
            "800원\n",
            "1200원\n"
          ]
        }
      ]
    },
    {
      "cell_type": "code",
      "source": [
        "dict1={'a':1,'b':2}\n",
        "dict2={'c':3,'d':4}\n",
        "dict1.update(dict2)\n",
        "print(f\"{dict1}\")"
      ],
      "metadata": {
        "colab": {
          "base_uri": "https://localhost:8080/"
        },
        "id": "aE6LPSI2gMJr",
        "outputId": "a9efb912-32b7-4501-fc86-6dc86a55b539"
      },
      "execution_count": null,
      "outputs": [
        {
          "output_type": "stream",
          "name": "stdout",
          "text": [
            "{'a': 1, 'b': 2, 'c': 3, 'd': 4}\n"
          ]
        }
      ]
    }
  ]
}