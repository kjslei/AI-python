{
  "nbformat": 4,
  "nbformat_minor": 0,
  "metadata": {
    "colab": {
      "provenance": [],
      "authorship_tag": "ABX9TyNiVoWqLmaC/k6UbysKzL6K",
      "include_colab_link": true
    },
    "kernelspec": {
      "name": "python3",
      "display_name": "Python 3"
    },
    "language_info": {
      "name": "python"
    }
  },
  "cells": [
    {
      "cell_type": "markdown",
      "metadata": {
        "id": "view-in-github",
        "colab_type": "text"
      },
      "source": [
        "<a href=\"https://colab.research.google.com/github/kjslei/AI-python/blob/main/2025_03_28.ipynb\" target=\"_parent\"><img src=\"https://colab.research.google.com/assets/colab-badge.svg\" alt=\"Open In Colab\"/></a>"
      ]
    },
    {
      "cell_type": "code",
      "execution_count": 7,
      "metadata": {
        "colab": {
          "base_uri": "https://localhost:8080/"
        },
        "id": "uCMMUxjZSKkk",
        "outputId": "db63b039-8676-480e-956f-2267ef4c64b8"
      },
      "outputs": [
        {
          "name": "stdout",
          "output_type": "stream",
          "text": [
            "첫 번째 정수를 입력하세요: 5\n",
            "두 번째 정수를 입력하세요: 6\n"
          ]
        }
      ],
      "source": [
        "num1 = int(input(\"첫 번째 정수를 입력하세요: \"))\n",
        "num2 = int(input(\"두 번째 정수를 입력하세요: \"))"
      ]
    },
    {
      "cell_type": "code",
      "source": [
        "if num1 > num2:\n",
        "  print(num1,\"은(는)\",num2,\"보다 큽니다.\")\n",
        "elif num1 < num2:\n",
        "  print(num1,\"은(는)\",num2,\"보다 작습니다.\")\n",
        "else:\n",
        "  print(num1,\"은(는)\",num2,\"와 같습니다..\")"
      ],
      "metadata": {
        "colab": {
          "base_uri": "https://localhost:8080/"
        },
        "id": "-anFdKBzWJGm",
        "outputId": "4e8fea11-e0e8-4a3b-b74a-42a17ad50ca7"
      },
      "execution_count": 8,
      "outputs": [
        {
          "output_type": "stream",
          "name": "stdout",
          "text": [
            "5 은(는) 6 보다 작습니다.\n"
          ]
        }
      ]
    },
    {
      "cell_type": "code",
      "source": [
        "num1 = int(input(\"첫 번째 정수를 입력하세요: \"))\n",
        "print(f\"첫 번째 수: {num1}\")\n",
        "num2 = int(input(\"두 번째 정수를 입력하세요: \"))\n",
        "print(f\"두 번째 수: {num2}\")\n",
        "num3 = int(input(\"세 번째 정수를 입력하세요: \"))\n",
        "print(f\"세 번째 수: {num3}\")\n",
        "max_num = num1\n",
        "a=1\n",
        "if max_num<num2:\n",
        "  print(f\"두 번째 수 {num2}가 현재 최대값 {max_num}보다 큽니다. 최대값을 업데이트합니다.\")\n",
        "  max_num=num2\n",
        "  a=2\n",
        "else:\n",
        "  print(f\"두 번째 수 {num2}는 현재 최대값 {max_num}보다 크지 않습니다.\")\n",
        "if num3 > max_num:\n",
        "  print(f\"세 번째 수 {num3}가 현재 최대값 {max_num}보다 큽니다. 최대값을 업데이트합니다.\")\n",
        "  max_num=num3\n",
        "  a=3\n",
        "else:\n",
        "  print(f\"세 번째 수 {num3}는 현재 최대값 {max_num}보다 크지 않습니다.\")\n",
        "print(f\"입력하신 세 수 {num1}, {num2}, {num3} 중에서 가장 큰 수는{a}번째 정수인 {max_num}입니다.\")"
      ],
      "metadata": {
        "id": "J4Cg7FTtXVYG"
      },
      "execution_count": null,
      "outputs": []
    },
    {
      "cell_type": "code",
      "source": [
        "try:\n",
        "  score=int(input(\"시험 점수를 입력하세요: \"))\n",
        "except ValueError:\n",
        "  print(\"유효한 정수를 입력하세요.\")\n",
        "\n",
        "if score < 0 or score > 100:\n",
        "  print(\"유효한 점수를 입력하세요\")\n",
        "else:\n",
        "  if score > 89:\n",
        "    grade='A'\n",
        "  elif score > 79:\n",
        "    grade='B'\n",
        "  elif score > 69:\n",
        "    grade='C'\n",
        "  elif score > 59:\n",
        "    grade='D'\n",
        "  else:\n",
        "    grade='F'\n",
        "  print(f\"당신의 학점은 {grade} 입니다.\")"
      ],
      "metadata": {
        "id": "TU6zoqq9cBF3"
      },
      "execution_count": null,
      "outputs": []
    },
    {
      "cell_type": "code",
      "source": [
        "year=int(input(\"연도를 입력하세요: \"))\n",
        "a=year%4\n",
        "b=year%100\n",
        "c=year%400\n",
        "if (a==0 and b != 0) or (c==0):\n",
        "  print(f\"{year}년은 윤년입니다.\")\n",
        "else:\n",
        "  print(f\"{year}년은 윤년이 아닙니다.\")"
      ],
      "metadata": {
        "id": "TpVBpKS1fH-l"
      },
      "execution_count": null,
      "outputs": []
    },
    {
      "cell_type": "code",
      "source": [
        "for i in range(1,6):\n",
        "  print(i)"
      ],
      "metadata": {
        "id": "iGPauB56kH_9"
      },
      "execution_count": null,
      "outputs": []
    },
    {
      "cell_type": "code",
      "source": [
        "for i in range(5):\n",
        "  print(i+1)"
      ],
      "metadata": {
        "id": "IXNsN7gVllaF"
      },
      "execution_count": null,
      "outputs": []
    },
    {
      "cell_type": "code",
      "source": [
        "for i in [\"A\",\"B\",2,3,4,5]:\n",
        "  print(i)"
      ],
      "metadata": {
        "colab": {
          "base_uri": "https://localhost:8080/"
        },
        "id": "XP0_brtYmPIt",
        "outputId": "f406ecea-f85b-4505-991d-5ec15edc642e"
      },
      "execution_count": 35,
      "outputs": [
        {
          "output_type": "stream",
          "name": "stdout",
          "text": [
            "A\n",
            "B\n",
            "2\n",
            "3\n",
            "4\n",
            "5\n"
          ]
        }
      ]
    },
    {
      "cell_type": "code",
      "source": [
        "n=int(input(\"N 의 값을 지정해주세요: \"))\n",
        "count=0\n",
        "sum=0\n",
        "for i in range(n):\n",
        "  sum=sum+1+i\n",
        "print(sum)"
      ],
      "metadata": {
        "colab": {
          "base_uri": "https://localhost:8080/"
        },
        "id": "yZxNrs6indgd",
        "outputId": "74659ba4-b417-4928-c0cc-470d038fbeb0"
      },
      "execution_count": 39,
      "outputs": [
        {
          "output_type": "stream",
          "name": "stdout",
          "text": [
            "N 의 값을 지정해주세요: 100\n",
            "5050\n"
          ]
        }
      ]
    },
    {
      "cell_type": "code",
      "source": [
        "count=0\n",
        "print(\"0~9를 출력: \")\n",
        "while count<10:\n",
        "  print(count)\n",
        "  count+=1\n",
        "print(\"while 루프종료\")"
      ],
      "metadata": {
        "id": "Cd7OQasXrUgs"
      },
      "execution_count": null,
      "outputs": []
    },
    {
      "cell_type": "code",
      "source": [
        "print(\"0~9를 출력: \")\n",
        "for i in range(10):\n",
        "  print(i)\n",
        "print(\"for 루프종료\")"
      ],
      "metadata": {
        "colab": {
          "base_uri": "https://localhost:8080/"
        },
        "id": "JMXg-O_HsDG1",
        "outputId": "37aaa395-addb-4606-d9cc-0405032007fa"
      },
      "execution_count": 43,
      "outputs": [
        {
          "output_type": "stream",
          "name": "stdout",
          "text": [
            "0~9를 출력: \n",
            "0\n",
            "1\n",
            "2\n",
            "3\n",
            "4\n",
            "5\n",
            "6\n",
            "7\n",
            "8\n",
            "9\n",
            "for 루프종료\n"
          ]
        }
      ]
    }
  ]
}