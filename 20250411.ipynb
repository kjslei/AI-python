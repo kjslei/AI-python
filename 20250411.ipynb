{
  "nbformat": 4,
  "nbformat_minor": 0,
  "metadata": {
    "colab": {
      "provenance": [],
      "authorship_tag": "ABX9TyPzY6bdO+SeWGSbowl3fqQQ",
      "include_colab_link": true
    },
    "kernelspec": {
      "name": "python3",
      "display_name": "Python 3"
    },
    "language_info": {
      "name": "python"
    }
  },
  "cells": [
    {
      "cell_type": "markdown",
      "metadata": {
        "id": "view-in-github",
        "colab_type": "text"
      },
      "source": [
        "<a href=\"https://colab.research.google.com/github/kjslei/AI-python/blob/main/20250411.ipynb\" target=\"_parent\"><img src=\"https://colab.research.google.com/assets/colab-badge.svg\" alt=\"Open In Colab\"/></a>"
      ]
    },
    {
      "cell_type": "code",
      "execution_count": 10,
      "metadata": {
        "colab": {
          "base_uri": "https://localhost:8080/"
        },
        "id": "ZTjWl3IoYEtM",
        "outputId": "44a14edc-115d-4f9f-cb52-d86c4840dced"
      },
      "outputs": [
        {
          "output_type": "stream",
          "name": "stdout",
          "text": [
            "5\n",
            "정확한 주민번호를 입력해주세요.\n"
          ]
        }
      ],
      "source": [
        "id=\"250411-5456789\"\n",
        "len(id)\n",
        "print(id[7])\n",
        "if id[7]=='3':\n",
        "  print(\"남자아이 입니다.\")\n",
        "elif id[7]=='4':\n",
        "  print(\"여자아이 입니다.\")\n",
        "else :\n",
        "  print(\"정확한 주민번호를 입력해주세요.\")"
      ]
    },
    {
      "cell_type": "code",
      "source": [
        "s1=input('문자열:')\n",
        "s2=''\n",
        "for i in range(len(s1)-1,-1,-1):\n",
        "  s2=s2+s1[i]\n",
        "print(s2)\n",
        "\n",
        "if s1==s2:\n",
        "  print('회문입니다.')\n",
        "else:\n",
        "  print('회문이 아닙니다.')"
      ],
      "metadata": {
        "colab": {
          "base_uri": "https://localhost:8080/"
        },
        "id": "jh6EPl2EjHqg",
        "outputId": "8f4cef71-e4dd-414f-b928-738bb2f2be64"
      },
      "execution_count": 13,
      "outputs": [
        {
          "output_type": "stream",
          "name": "stdout",
          "text": [
            "문자열:sos\n",
            "sos\n",
            "회문입니다.\n"
          ]
        }
      ]
    },
    {
      "cell_type": "code",
      "source": [
        "s='부산대,제주대,서울대'\n",
        "print(s.split(','))"
      ],
      "metadata": {
        "colab": {
          "base_uri": "https://localhost:8080/"
        },
        "id": "lMbPokJAkeq4",
        "outputId": "b2d2288b-b388-4573-cf9a-6520226b77a0"
      },
      "execution_count": 14,
      "outputs": [
        {
          "output_type": "stream",
          "name": "stdout",
          "text": [
            "['부산대', '제주대', '서울대']\n"
          ]
        }
      ]
    },
    {
      "cell_type": "code",
      "source": [
        "a=input('숫자를 입력하세요:')\n",
        "b=a.isdigit()\n",
        "if b==True:\n",
        "  print('숫자열입니다.')\n",
        "else:\n",
        "  print('숫자가 아닙니다.')"
      ],
      "metadata": {
        "colab": {
          "base_uri": "https://localhost:8080/"
        },
        "id": "1nYJFo-YqeHF",
        "outputId": "a90fe9ae-cf46-4192-f6cb-48727960ad5d"
      },
      "execution_count": 17,
      "outputs": [
        {
          "output_type": "stream",
          "name": "stdout",
          "text": [
            "숫자를 입력하세요:b\n",
            "숫자가 아닙니다.\n"
          ]
        }
      ]
    },
    {
      "cell_type": "code",
      "source": [],
      "metadata": {
        "id": "Ercto8HksAGN"
      },
      "execution_count": null,
      "outputs": []
    }
  ]
}