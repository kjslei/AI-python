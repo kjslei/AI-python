{
  "nbformat": 4,
  "nbformat_minor": 0,
  "metadata": {
    "colab": {
      "provenance": [],
      "authorship_tag": "ABX9TyNLjWeeYrUwNbNHqBzDdvdQ",
      "include_colab_link": true
    },
    "kernelspec": {
      "name": "python3",
      "display_name": "Python 3"
    },
    "language_info": {
      "name": "python"
    }
  },
  "cells": [
    {
      "cell_type": "markdown",
      "metadata": {
        "id": "view-in-github",
        "colab_type": "text"
      },
      "source": [
        "<a href=\"https://colab.research.google.com/github/kjslei/AI-python/blob/main/2025_04_04.ipynb\" target=\"_parent\"><img src=\"https://colab.research.google.com/assets/colab-badge.svg\" alt=\"Open In Colab\"/></a>"
      ]
    },
    {
      "cell_type": "code",
      "execution_count": null,
      "metadata": {
        "id": "9aPW1A0mesRT"
      },
      "outputs": [],
      "source": [
        "kind=input('온동 종류(섭씨 또는 화씨): ')\n",
        "tem=int(input('온도'))\n",
        "if kind=='섭씨' :\n",
        "    temp=tem*9/5+32\n",
        "    print('섭씨',tem,'도는 화씨',temp,'도 입니다.')\n",
        "elif kind=='화씨':\n",
        "    temp=(tem-32)*5/9\n",
        "    print('화씨',tem,'도는 섭씨',temp,'도 입니다.')\n",
        "else:\n",
        "    print('화씨나 섭씨를 입력해 주십시오')"
      ]
    },
    {
      "cell_type": "code",
      "source": [
        "import random\n",
        "answer=random.randint(1,100)\n",
        "print(answer)\n",
        "while True:\n",
        "  user=int(input('1~100 숫자 입력: '))\n",
        "  if user==answer:\n",
        "    print('정답입니다.')\n",
        "    break\n",
        "  elif user < answer:\n",
        "    print('입력하신 수가 정답보다 작습니다.')\n",
        "  else :\n",
        "    print('입력하신 수가 정답보다 큽니다.')"
      ],
      "metadata": {
        "colab": {
          "base_uri": "https://localhost:8080/"
        },
        "id": "wXMVBVb7e6Uw",
        "outputId": "e1aae07b-ae55-406d-b8e0-bf97b5960256"
      },
      "execution_count": 4,
      "outputs": [
        {
          "output_type": "stream",
          "name": "stdout",
          "text": [
            "72\n",
            "1~100 숫자 입력: 72\n",
            "정답입니다.\n"
          ]
        }
      ]
    },
    {
      "cell_type": "code",
      "source": [
        "import random\n",
        "list_num=[]\n",
        "for i in range(7):\n",
        "  num=random.randint(1,45)\n",
        "  list_num.append(num)\n",
        "print(list_num)"
      ],
      "metadata": {
        "colab": {
          "base_uri": "https://localhost:8080/"
        },
        "id": "3A4A8pY3k-H2",
        "outputId": "37a99e97-66f0-47e6-87f8-9f1daafa912d"
      },
      "execution_count": 5,
      "outputs": [
        {
          "output_type": "stream",
          "name": "stdout",
          "text": [
            "[29, 13, 4, 13, 40, 27, 42]\n"
          ]
        }
      ]
    },
    {
      "cell_type": "code",
      "source": [
        "성적 = [85, 92, 78, 90, 87]\n",
        "sum=0\n",
        "for i in range(5):\n",
        " sum=sum+성적[i]\n",
        "avg=sum/5\n",
        "print(sum,avg)"
      ],
      "metadata": {
        "colab": {
          "base_uri": "https://localhost:8080/"
        },
        "id": "WMlr1WptufVc",
        "outputId": "780d09ee-c10f-4000-93b7-c65dd81c5ad2"
      },
      "execution_count": 13,
      "outputs": [
        {
          "output_type": "stream",
          "name": "stdout",
          "text": [
            "432 86.4\n"
          ]
        }
      ]
    }
  ]
}