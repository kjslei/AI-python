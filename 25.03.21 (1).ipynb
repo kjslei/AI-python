{
 "cells": [
  {
   "cell_type": "code",
   "execution_count": 2,
   "id": "12cd3f8f-d386-4387-bbf8-17662805abe9",
   "metadata": {},
   "outputs": [
    {
     "name": "stdin",
     "output_type": "stream",
     "text": [
      "나이를 입력하세요: 27\n"
     ]
    },
    {
     "name": "stdout",
     "output_type": "stream",
     "text": [
      "당신은 내년에 28 살입니다.\n"
     ]
    }
   ],
   "source": [
    "age=input(\"나이를 입력하세요:\")\n",
    "age=int(age)\n",
    "print(\"당신은 내년에\",age+1,\"살입니다.\")"
   ]
  },
  {
   "cell_type": "code",
   "execution_count": 4,
   "id": "bea7b2e3-df7b-4b04-9e83-05d27cd7a454",
   "metadata": {},
   "outputs": [
    {
     "name": "stdin",
     "output_type": "stream",
     "text": [
      "나이를 입력하세요: 10\n"
     ]
    },
    {
     "name": "stdout",
     "output_type": "stream",
     "text": [
      "당신은 내년에 11 살입니다.\n"
     ]
    }
   ],
   "source": [
    "age=int(input(\"나이를 입력하세요:\"))\n",
    "nage=age+1\n",
    "print(\"당신은 내년에\",nage,\"살입니다.\")"
   ]
  },
  {
   "cell_type": "code",
   "execution_count": 6,
   "id": "df36942b-a6b6-4ce9-81b1-5600fee9fc62",
   "metadata": {
    "scrolled": true
   },
   "outputs": [
    {
     "name": "stdin",
     "output_type": "stream",
     "text": [
      "나이를 입력하세요: 10\n"
     ]
    },
    {
     "name": "stdout",
     "output_type": "stream",
     "text": [
      "10살입니다.\n"
     ]
    }
   ],
   "source": [
    "age=input(\"나이를 입력하세요:\")\n",
    "print(age+\"살입니다.\")"
   ]
  },
  {
   "cell_type": "code",
   "execution_count": 9,
   "id": "ae28032f-d1dc-4cbe-8aef-f226cc480a0f",
   "metadata": {},
   "outputs": [
    {
     "name": "stdin",
     "output_type": "stream",
     "text": [
      "정수를 입력해주세요: -4\n"
     ]
    },
    {
     "name": "stdout",
     "output_type": "stream",
     "text": [
      "이 수는 음수입니다.\n"
     ]
    }
   ],
   "source": [
    "#입력받은 숫자가 양수인지 음수인지\n",
    "a=int(input(\"정수를 입력해주세요:\"))\n",
    "if a>0:\n",
    "    print(\"이 수는 양수입니다.\")\n",
    "elif a<0:\n",
    "    print(\"이 수는 음수입니다.\")\n",
    "else:\n",
    "    print(\"이 수는 0 입니다.\")"
   ]
  },
  {
   "cell_type": "code",
   "execution_count": 14,
   "id": "49da95b4-4fb2-471b-b821-9c46a766ef1d",
   "metadata": {},
   "outputs": [
    {
     "name": "stdin",
     "output_type": "stream",
     "text": [
      "정수를 입력해주세요: 8\n"
     ]
    },
    {
     "name": "stdout",
     "output_type": "stream",
     "text": [
      "0\n",
      "이 수는 짝수입니다.\n"
     ]
    }
   ],
   "source": [
    "a=int(input(\"정수를 입력해주세요:\"))\n",
    "b=a%2\n",
    "print(b)\n",
    "if b==1:\n",
    "    print(\"이 수는 홀수입니다.\")\n",
    "else: \n",
    "    print(\"이 수는 짝수입니다.\")"
   ]
  },
  {
   "cell_type": "code",
   "execution_count": 43,
   "id": "d24fe0a0-81b3-4c65-b4d7-5e8f1ee98cf3",
   "metadata": {},
   "outputs": [
    {
     "name": "stdin",
     "output_type": "stream",
     "text": [
      " 3 2\n"
     ]
    },
    {
     "name": "stdout",
     "output_type": "stream",
     "text": [
      "A승B패\n"
     ]
    }
   ],
   "source": [
    "A,B=map(int,input().split())\n",
    "\n",
    "if A>3 or A<1:\n",
    "    print(\"잘못된입력\")\n",
    "elif B>3 or B<1:\n",
    "    print(\"잘못된입력\")\n",
    "elif A-B==0:\n",
    "    print(\"무승부\")\n",
    "elif A-B==1 or A-B==-2:\n",
    "    print(\"A승B패\")    \n",
    "else :\n",
    "    print(\"B승A패\")"
   ]
  },
  {
   "cell_type": "code",
   "execution_count": null,
   "id": "82f1969c-983b-4ec7-b8e9-5eea2aabe6ef",
   "metadata": {},
   "outputs": [],
   "source": []
  }
 ],
 "metadata": {
  "kernelspec": {
   "display_name": "Python 3 (ipykernel)",
   "language": "python",
   "name": "python3"
  },
  "language_info": {
   "codemirror_mode": {
    "name": "ipython",
    "version": 3
   },
   "file_extension": ".py",
   "mimetype": "text/x-python",
   "name": "python",
   "nbconvert_exporter": "python",
   "pygments_lexer": "ipython3",
   "version": "3.12.6"
  }
 },
 "nbformat": 4,
 "nbformat_minor": 5
}
