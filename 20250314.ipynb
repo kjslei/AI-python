{
  "nbformat": 4,
  "nbformat_minor": 0,
  "metadata": {
    "colab": {
      "provenance": []
    },
    "kernelspec": {
      "name": "python3",
      "display_name": "Python 3"
    },
    "language_info": {
      "name": "python"
    }
  },
  "cells": [
    {
      "cell_type": "code",
      "execution_count": 12,
      "metadata": {
        "colab": {
          "base_uri": "https://localhost:8080/"
        },
        "id": "9qRtAGDNdOrZ",
        "outputId": "69beee7e-6466-4688-d4f7-ef1681a35d23"
      },
      "outputs": [
        {
          "output_type": "stream",
          "name": "stdout",
          "text": [
            "반지름이 5 인 원의 면적은  78.5398 입니다.\n"
          ]
        }
      ],
      "source": [
        "#반지름이 5인 원의 면적을 구하시오 워주율은 3.141592\n",
        "x=5\n",
        "y=x*x*3.141592\n",
        "print(\"반지름이\",x,\"인 원의 면적은 \",y,\"입니다.\")"
      ]
    },
    {
      "cell_type": "code",
      "source": [
        "#분을 시간과 분으로 변환하여 출력하시오\n",
        "x=200\n",
        "z=x%60\n",
        "y=(x-z)/60\n",
        "print(x,\"분은\",y,\"시간\",z,\"분입니다.\")"
      ],
      "metadata": {
        "colab": {
          "base_uri": "https://localhost:8080/"
        },
        "id": "0eQfjDHCdmo5",
        "outputId": "3a7cc828-112a-4def-8033-b75041be176f"
      },
      "execution_count": 14,
      "outputs": [
        {
          "output_type": "stream",
          "name": "stdout",
          "text": [
            "200 분은 3.0 시간 20 분입니다.\n"
          ]
        }
      ]
    }
  ]
}